{
  "nbformat": 4,
  "nbformat_minor": 0,
  "metadata": {
    "kernelspec": {
      "display_name": "Python 3",
      "language": "python",
      "name": "python3"
    },
    "language_info": {
      "codemirror_mode": {
        "name": "ipython",
        "version": 3
      },
      "file_extension": ".py",
      "mimetype": "text/x-python",
      "name": "python",
      "nbconvert_exporter": "python",
      "pygments_lexer": "ipython3",
      "version": "3.7.3"
    },
    "colab": {
      "name": "LinearRegression_Heating_Cooling_Load.ipynb",
      "provenance": [],
      "include_colab_link": true
    }
  },
  "cells": [
    {
      "cell_type": "markdown",
      "metadata": {
        "id": "view-in-github",
        "colab_type": "text"
      },
      "source": [
        "<a href=\"https://colab.research.google.com/github/11AJ/Machine-Learning/blob/main/LinearRegression_Heating_Cooling_Load.ipynb\" target=\"_parent\"><img src=\"https://colab.research.google.com/assets/colab-badge.svg\" alt=\"Open In Colab\"/></a>"
      ]
    },
    {
      "cell_type": "markdown",
      "metadata": {
        "id": "cdtG8ddXEOBy"
      },
      "source": [
        "#### Features/Column Description :-\n",
        "\n",
        "1) X1 - Relative Compactness<br>\n",
        "2) X2 - Surface Area<br>\n",
        "3) X3 - Wall Area<br>\n",
        "4) X4 - Roof Area<br>\n",
        "5) X5 - Overall Height<br>\n",
        "6) X6 - Orientation<br>\n",
        "7) X7 - Glazing Area<br>\n",
        "8) X8 - Glazing Area Distrbution<br>\n",
        "9) Y1 - Heating Load<br>\n",
        "10) Y2 - Cooling Load\n"
      ]
    },
    {
      "cell_type": "markdown",
      "metadata": {
        "id": "dNtKvbN6EOB1"
      },
      "source": [
        "<b>Regression Task</b><br>\n",
        "Use the given dataset and perform the following:-\n",
        "<ol>\n",
        "<li> Read the 'heat_load.xlsx' dataset.</li>\n",
        "<li> Rename the columns as per the given features</li> \n",
        "<li> Remove/handle null values if any</li>    \n",
        "<li> Considering all the features as independent features (except heating and cooling load) Split the dataset into training and test dataset with test_size = 25%</li>\n",
        "<li> Predict the Heating load based on features from X1 to X8 and also calculate\n",
        "the model score. Also find the intercept and the coefficients corresponding to\n",
        "each of these features. Generate equation of Linear regression</li>\n",
        "<li>Predict the Cooling load based on features from X1 to X8 and also calculate\n",
        "the model score. Also find the intercept and the coefficients corresponding \n",
        "to each of these features. Generate equation of Linear regression</li>\n",
        "<li> Compute MSE, MAE, RMSE for two scenarios(5 and 6)</li> \n",
        "<li>Select appropriate independent features based on Correlation matrix</li>\n",
        "<li>Repeat Q5 and Q7 for heating load after the original dataset has been split into training and testing dataset with test_szie=25% with appropriate independent features selected from correlation matrix</li>\n",
        "<li>Repeat Q6 and Q7 for cooling load after the original dataset has been split into training and testing dataset with test_szie=25% with appropriate independent features selected from correlation matrix</li>   \n",
        "</ol>"
      ]
    },
    {
      "cell_type": "code",
      "metadata": {
        "id": "eQ5n47qjEOB2"
      },
      "source": [
        "import numpy as np\n",
        "import pandas as pd\n",
        "import matplotlib.pyplot as plt"
      ],
      "execution_count": 1,
      "outputs": []
    },
    {
      "cell_type": "markdown",
      "metadata": {
        "id": "daO8whi3HC3k"
      },
      "source": [
        "Read the 'heat_load.xlsx' dataset."
      ]
    },
    {
      "cell_type": "code",
      "metadata": {
        "id": "iX9Tvyi3EVos"
      },
      "source": [
        "df=pd.read_excel('/content/heat_load.xlsx')"
      ],
      "execution_count": 74,
      "outputs": []
    },
    {
      "cell_type": "code",
      "metadata": {
        "colab": {
          "base_uri": "https://localhost:8080/",
          "height": 206
        },
        "id": "UXlVlXmAEZ-j",
        "outputId": "ac15fa48-be75-48b9-9cdc-5aa06fa5015b"
      },
      "source": [
        "df.head(5)"
      ],
      "execution_count": 75,
      "outputs": [
        {
          "output_type": "execute_result",
          "data": {
            "text/html": [
              "<div>\n",
              "<style scoped>\n",
              "    .dataframe tbody tr th:only-of-type {\n",
              "        vertical-align: middle;\n",
              "    }\n",
              "\n",
              "    .dataframe tbody tr th {\n",
              "        vertical-align: top;\n",
              "    }\n",
              "\n",
              "    .dataframe thead th {\n",
              "        text-align: right;\n",
              "    }\n",
              "</style>\n",
              "<table border=\"1\" class=\"dataframe\">\n",
              "  <thead>\n",
              "    <tr style=\"text-align: right;\">\n",
              "      <th></th>\n",
              "      <th>X1</th>\n",
              "      <th>X2</th>\n",
              "      <th>X3</th>\n",
              "      <th>X4</th>\n",
              "      <th>X5</th>\n",
              "      <th>X6</th>\n",
              "      <th>X7</th>\n",
              "      <th>X8</th>\n",
              "      <th>Y1</th>\n",
              "      <th>Y2</th>\n",
              "    </tr>\n",
              "  </thead>\n",
              "  <tbody>\n",
              "    <tr>\n",
              "      <th>0</th>\n",
              "      <td>0.98</td>\n",
              "      <td>514.5</td>\n",
              "      <td>294.0</td>\n",
              "      <td>110.25</td>\n",
              "      <td>7.0</td>\n",
              "      <td>2</td>\n",
              "      <td>0.0</td>\n",
              "      <td>0</td>\n",
              "      <td>15.55</td>\n",
              "      <td>21.33</td>\n",
              "    </tr>\n",
              "    <tr>\n",
              "      <th>1</th>\n",
              "      <td>0.98</td>\n",
              "      <td>514.5</td>\n",
              "      <td>294.0</td>\n",
              "      <td>110.25</td>\n",
              "      <td>7.0</td>\n",
              "      <td>3</td>\n",
              "      <td>0.0</td>\n",
              "      <td>0</td>\n",
              "      <td>15.55</td>\n",
              "      <td>21.33</td>\n",
              "    </tr>\n",
              "    <tr>\n",
              "      <th>2</th>\n",
              "      <td>0.98</td>\n",
              "      <td>514.5</td>\n",
              "      <td>294.0</td>\n",
              "      <td>110.25</td>\n",
              "      <td>7.0</td>\n",
              "      <td>4</td>\n",
              "      <td>0.0</td>\n",
              "      <td>0</td>\n",
              "      <td>15.55</td>\n",
              "      <td>21.33</td>\n",
              "    </tr>\n",
              "    <tr>\n",
              "      <th>3</th>\n",
              "      <td>0.98</td>\n",
              "      <td>514.5</td>\n",
              "      <td>294.0</td>\n",
              "      <td>110.25</td>\n",
              "      <td>7.0</td>\n",
              "      <td>5</td>\n",
              "      <td>0.0</td>\n",
              "      <td>0</td>\n",
              "      <td>15.55</td>\n",
              "      <td>21.33</td>\n",
              "    </tr>\n",
              "    <tr>\n",
              "      <th>4</th>\n",
              "      <td>0.90</td>\n",
              "      <td>563.5</td>\n",
              "      <td>318.5</td>\n",
              "      <td>122.50</td>\n",
              "      <td>7.0</td>\n",
              "      <td>2</td>\n",
              "      <td>0.0</td>\n",
              "      <td>0</td>\n",
              "      <td>20.84</td>\n",
              "      <td>28.28</td>\n",
              "    </tr>\n",
              "  </tbody>\n",
              "</table>\n",
              "</div>"
            ],
            "text/plain": [
              "     X1     X2     X3      X4   X5  X6   X7  X8     Y1     Y2\n",
              "0  0.98  514.5  294.0  110.25  7.0   2  0.0   0  15.55  21.33\n",
              "1  0.98  514.5  294.0  110.25  7.0   3  0.0   0  15.55  21.33\n",
              "2  0.98  514.5  294.0  110.25  7.0   4  0.0   0  15.55  21.33\n",
              "3  0.98  514.5  294.0  110.25  7.0   5  0.0   0  15.55  21.33\n",
              "4  0.90  563.5  318.5  122.50  7.0   2  0.0   0  20.84  28.28"
            ]
          },
          "metadata": {
            "tags": []
          },
          "execution_count": 75
        }
      ]
    },
    {
      "cell_type": "markdown",
      "metadata": {
        "id": "QDF75oQ5HF4Q"
      },
      "source": [
        "Rename the columns as per the given features"
      ]
    },
    {
      "cell_type": "code",
      "metadata": {
        "id": "u7fnrPlKEb9p"
      },
      "source": [
        "df.rename(columns = {'X1':'Relative Compactness'}, inplace = True)\n",
        "df.rename(columns = {'X2':'Surface Area'}, inplace = True)\n",
        "df.rename(columns = {'X3':'Wall Area'}, inplace = True)\n",
        "df.rename(columns = {'X4':'Roof Area'}, inplace = True)\n",
        "df.rename(columns = {'X5':'Overall Height'}, inplace = True)\n",
        "df.rename(columns = {'X6':'Orientation'}, inplace = True)\n",
        "df.rename(columns = {'X7':'Glazing Area'}, inplace = True)\n",
        "df.rename(columns = {'X8':'Glazing Area Distrbution'}, inplace = True)\n",
        "df.rename(columns = {'Y1':'Heating Load'}, inplace = True)\n",
        "df.rename(columns = {'Y2':'Cooling Load'}, inplace = True)"
      ],
      "execution_count": 76,
      "outputs": []
    },
    {
      "cell_type": "code",
      "metadata": {
        "colab": {
          "base_uri": "https://localhost:8080/",
          "height": 223
        },
        "id": "IXYZ6qPuE-kY",
        "outputId": "d2a1a0cd-107a-41de-db35-0f3261ae2d25"
      },
      "source": [
        "df.head(5)"
      ],
      "execution_count": 77,
      "outputs": [
        {
          "output_type": "execute_result",
          "data": {
            "text/html": [
              "<div>\n",
              "<style scoped>\n",
              "    .dataframe tbody tr th:only-of-type {\n",
              "        vertical-align: middle;\n",
              "    }\n",
              "\n",
              "    .dataframe tbody tr th {\n",
              "        vertical-align: top;\n",
              "    }\n",
              "\n",
              "    .dataframe thead th {\n",
              "        text-align: right;\n",
              "    }\n",
              "</style>\n",
              "<table border=\"1\" class=\"dataframe\">\n",
              "  <thead>\n",
              "    <tr style=\"text-align: right;\">\n",
              "      <th></th>\n",
              "      <th>Relative Compactness</th>\n",
              "      <th>Surface Area</th>\n",
              "      <th>Wall Area</th>\n",
              "      <th>Roof Area</th>\n",
              "      <th>Overall Height</th>\n",
              "      <th>Orientation</th>\n",
              "      <th>Glazing Area</th>\n",
              "      <th>Glazing Area Distrbution</th>\n",
              "      <th>Heating Load</th>\n",
              "      <th>Cooling Load</th>\n",
              "    </tr>\n",
              "  </thead>\n",
              "  <tbody>\n",
              "    <tr>\n",
              "      <th>0</th>\n",
              "      <td>0.98</td>\n",
              "      <td>514.5</td>\n",
              "      <td>294.0</td>\n",
              "      <td>110.25</td>\n",
              "      <td>7.0</td>\n",
              "      <td>2</td>\n",
              "      <td>0.0</td>\n",
              "      <td>0</td>\n",
              "      <td>15.55</td>\n",
              "      <td>21.33</td>\n",
              "    </tr>\n",
              "    <tr>\n",
              "      <th>1</th>\n",
              "      <td>0.98</td>\n",
              "      <td>514.5</td>\n",
              "      <td>294.0</td>\n",
              "      <td>110.25</td>\n",
              "      <td>7.0</td>\n",
              "      <td>3</td>\n",
              "      <td>0.0</td>\n",
              "      <td>0</td>\n",
              "      <td>15.55</td>\n",
              "      <td>21.33</td>\n",
              "    </tr>\n",
              "    <tr>\n",
              "      <th>2</th>\n",
              "      <td>0.98</td>\n",
              "      <td>514.5</td>\n",
              "      <td>294.0</td>\n",
              "      <td>110.25</td>\n",
              "      <td>7.0</td>\n",
              "      <td>4</td>\n",
              "      <td>0.0</td>\n",
              "      <td>0</td>\n",
              "      <td>15.55</td>\n",
              "      <td>21.33</td>\n",
              "    </tr>\n",
              "    <tr>\n",
              "      <th>3</th>\n",
              "      <td>0.98</td>\n",
              "      <td>514.5</td>\n",
              "      <td>294.0</td>\n",
              "      <td>110.25</td>\n",
              "      <td>7.0</td>\n",
              "      <td>5</td>\n",
              "      <td>0.0</td>\n",
              "      <td>0</td>\n",
              "      <td>15.55</td>\n",
              "      <td>21.33</td>\n",
              "    </tr>\n",
              "    <tr>\n",
              "      <th>4</th>\n",
              "      <td>0.90</td>\n",
              "      <td>563.5</td>\n",
              "      <td>318.5</td>\n",
              "      <td>122.50</td>\n",
              "      <td>7.0</td>\n",
              "      <td>2</td>\n",
              "      <td>0.0</td>\n",
              "      <td>0</td>\n",
              "      <td>20.84</td>\n",
              "      <td>28.28</td>\n",
              "    </tr>\n",
              "  </tbody>\n",
              "</table>\n",
              "</div>"
            ],
            "text/plain": [
              "   Relative Compactness  Surface Area  ...  Heating Load  Cooling Load\n",
              "0                  0.98         514.5  ...         15.55         21.33\n",
              "1                  0.98         514.5  ...         15.55         21.33\n",
              "2                  0.98         514.5  ...         15.55         21.33\n",
              "3                  0.98         514.5  ...         15.55         21.33\n",
              "4                  0.90         563.5  ...         20.84         28.28\n",
              "\n",
              "[5 rows x 10 columns]"
            ]
          },
          "metadata": {
            "tags": []
          },
          "execution_count": 77
        }
      ]
    },
    {
      "cell_type": "markdown",
      "metadata": {
        "id": "quEFw5yMHKYX"
      },
      "source": [
        "Remove/handle null values if any"
      ]
    },
    {
      "cell_type": "code",
      "metadata": {
        "colab": {
          "base_uri": "https://localhost:8080/"
        },
        "id": "spBK4aryGDTv",
        "outputId": "e4286025-a68a-4246-b17e-0202eb812900"
      },
      "source": [
        "df.isnull().sum()"
      ],
      "execution_count": 78,
      "outputs": [
        {
          "output_type": "execute_result",
          "data": {
            "text/plain": [
              "Relative Compactness        0\n",
              "Surface Area                0\n",
              "Wall Area                   0\n",
              "Roof Area                   0\n",
              "Overall Height              0\n",
              "Orientation                 0\n",
              "Glazing Area                0\n",
              "Glazing Area Distrbution    0\n",
              "Heating Load                0\n",
              "Cooling Load                0\n",
              "dtype: int64"
            ]
          },
          "metadata": {
            "tags": []
          },
          "execution_count": 78
        }
      ]
    },
    {
      "cell_type": "markdown",
      "metadata": {
        "id": "fv5Io7p0HM5T"
      },
      "source": [
        "Considering all the features as independent features (except heating and cooling load) Split the dataset into training and test dataset with test_size = 25%"
      ]
    },
    {
      "cell_type": "code",
      "metadata": {
        "id": "00B9p9LBGqtZ"
      },
      "source": [
        "X=df.iloc[:,:-2]\n",
        "Y=df['Heating Load']"
      ],
      "execution_count": 124,
      "outputs": []
    },
    {
      "cell_type": "code",
      "metadata": {
        "id": "Mongha4IG2Qj"
      },
      "source": [
        "from sklearn.model_selection import train_test_split"
      ],
      "execution_count": 103,
      "outputs": []
    },
    {
      "cell_type": "code",
      "metadata": {
        "id": "xtRqupDxHZkT"
      },
      "source": [
        "X_train,X_test,Y_train,Y_test=train_test_split(X,Y,test_size=.25)"
      ],
      "execution_count": 104,
      "outputs": []
    },
    {
      "cell_type": "markdown",
      "metadata": {
        "id": "ZVOdBpGwHyen"
      },
      "source": [
        "Predict the Heating load based on features from X1 to X8 and also calculate the model score. Also find the intercept and the coefficients corresponding to each of these features. Generate equation of Linear regression"
      ]
    },
    {
      "cell_type": "code",
      "metadata": {
        "id": "vZkMyWVOHp4M"
      },
      "source": [
        "from sklearn.linear_model import LinearRegression"
      ],
      "execution_count": 105,
      "outputs": []
    },
    {
      "cell_type": "code",
      "metadata": {
        "id": "Inq568i0H_R4"
      },
      "source": [
        "model=LinearRegression()"
      ],
      "execution_count": 106,
      "outputs": []
    },
    {
      "cell_type": "code",
      "metadata": {
        "colab": {
          "base_uri": "https://localhost:8080/"
        },
        "id": "3kNIlysFIBgK",
        "outputId": "fd3e41e0-4b56-41b9-c9f3-40ad68dd5720"
      },
      "source": [
        "model.fit(X_train,Y_train)"
      ],
      "execution_count": 107,
      "outputs": [
        {
          "output_type": "execute_result",
          "data": {
            "text/plain": [
              "LinearRegression(copy_X=True, fit_intercept=True, n_jobs=None, normalize=False)"
            ]
          },
          "metadata": {
            "tags": []
          },
          "execution_count": 107
        }
      ]
    },
    {
      "cell_type": "code",
      "metadata": {
        "colab": {
          "base_uri": "https://localhost:8080/"
        },
        "id": "_OZ9GuhOIG1Z",
        "outputId": "23413e65-b198-47b5-e209-835a93a26ce7"
      },
      "source": [
        "model.score(X,Y)"
      ],
      "execution_count": 108,
      "outputs": [
        {
          "output_type": "execute_result",
          "data": {
            "text/plain": [
              "0.9159345135268653"
            ]
          },
          "metadata": {
            "tags": []
          },
          "execution_count": 108
        }
      ]
    },
    {
      "cell_type": "code",
      "metadata": {
        "colab": {
          "base_uri": "https://localhost:8080/"
        },
        "id": "mJO-CsCMISfk",
        "outputId": "b3209276-1a6f-4857-a994-ec0cf60c2379"
      },
      "source": [
        "model.coef_"
      ],
      "execution_count": 109,
      "outputs": [
        {
          "output_type": "execute_result",
          "data": {
            "text/plain": [
              "array([-6.56986983e+01,  6.81111446e+10, -6.81111446e+10, -1.36222289e+11,\n",
              "        3.91584849e+00, -4.00738120e-02,  1.92858950e+01,  2.25587217e-01])"
            ]
          },
          "metadata": {
            "tags": []
          },
          "execution_count": 109
        }
      ]
    },
    {
      "cell_type": "code",
      "metadata": {
        "colab": {
          "base_uri": "https://localhost:8080/"
        },
        "id": "pSd5Lsk_IU5X",
        "outputId": "f17076e7-9618-477a-920a-13852efb7bf5"
      },
      "source": [
        "model.intercept_"
      ],
      "execution_count": 110,
      "outputs": [
        {
          "output_type": "execute_result",
          "data": {
            "text/plain": [
              "88.30156537154565"
            ]
          },
          "metadata": {
            "tags": []
          },
          "execution_count": 110
        }
      ]
    },
    {
      "cell_type": "code",
      "metadata": {
        "colab": {
          "base_uri": "https://localhost:8080/"
        },
        "id": "-BjSBtV3IifV",
        "outputId": "4b534851-0e81-4169-ea75-31ba49d6b11a"
      },
      "source": [
        "df.columns"
      ],
      "execution_count": 111,
      "outputs": [
        {
          "output_type": "execute_result",
          "data": {
            "text/plain": [
              "Index(['Relative Compactness', 'Surface Area', 'Wall Area', 'Roof Area',\n",
              "       'Overall Height', 'Orientation', 'Glazing Area',\n",
              "       'Glazing Area Distrbution', 'Heating Load', 'Cooling Load'],\n",
              "      dtype='object')"
            ]
          },
          "metadata": {
            "tags": []
          },
          "execution_count": 111
        }
      ]
    },
    {
      "cell_type": "code",
      "metadata": {
        "id": "fOyus9ULIW4L"
      },
      "source": [
        "Head_load_eqn= df['Relative Compactness']*model.coef_[0] + df['Surface Area']*model.coef_[1] + df['Wall Area']*model.coef_[2] + df['Roof Area']*model.coef_[3] + df['Overall Height']*model.coef_[4] + df['Orientation']*model.coef_[5] + df['Glazing Area']*model.coef_[6] + df['Glazing Area Distrbution']*model.coef_[7]  + model.intercept_"
      ],
      "execution_count": 112,
      "outputs": []
    },
    {
      "cell_type": "code",
      "metadata": {
        "id": "OSgqCJlcJpwP"
      },
      "source": [
        "Heat_load_pred=model.predict(X_test)"
      ],
      "execution_count": 120,
      "outputs": []
    },
    {
      "cell_type": "code",
      "metadata": {
        "colab": {
          "base_uri": "https://localhost:8080/"
        },
        "id": "j_FNWyUwKfR2",
        "outputId": "8aa7f8fb-c106-46c0-ba46-777df40a28cd"
      },
      "source": [
        "Heat_load_pred[0:5]"
      ],
      "execution_count": 121,
      "outputs": [
        {
          "output_type": "execute_result",
          "data": {
            "text/plain": [
              "array([37.38544324, 32.42093909, 17.75156487, 35.5389989 , 14.06302009])"
            ]
          },
          "metadata": {
            "tags": []
          },
          "execution_count": 121
        }
      ]
    },
    {
      "cell_type": "code",
      "metadata": {
        "colab": {
          "base_uri": "https://localhost:8080/"
        },
        "id": "FJkJIVcjLN3J",
        "outputId": "a2d9f35d-6a2f-4534-832c-952f63f23406"
      },
      "source": [
        "Head_load_eqn[0:5]"
      ],
      "execution_count": 122,
      "outputs": [
        {
          "output_type": "execute_result",
          "data": {
            "text/plain": [
              "0    22.700717\n",
              "1    22.660643\n",
              "2    22.620569\n",
              "3    22.580495\n",
              "4    25.022982\n",
              "dtype: float64"
            ]
          },
          "metadata": {
            "tags": []
          },
          "execution_count": 122
        }
      ]
    },
    {
      "cell_type": "markdown",
      "metadata": {
        "id": "uSi2OzTINnHK"
      },
      "source": [
        "Predict the Cooling load based on features from X1 to X8 and also calculate the model score. Also find the intercept and the coefficients corresponding to each of these features. Generate equation of Linear regression"
      ]
    },
    {
      "cell_type": "code",
      "metadata": {
        "id": "khQCN7bTMGqO"
      },
      "source": [
        "X1=df.iloc[:,:-2]\n",
        "Y1=df['Cooling Load']"
      ],
      "execution_count": 126,
      "outputs": []
    },
    {
      "cell_type": "code",
      "metadata": {
        "id": "vzeF5wmzN_1y"
      },
      "source": [
        "from sklearn.model_selection import train_test_split"
      ],
      "execution_count": 127,
      "outputs": []
    },
    {
      "cell_type": "code",
      "metadata": {
        "id": "jdsRewoCOKDz"
      },
      "source": [
        "X1_train,X1_test,Y1_train,Y1_test=train_test_split(X1,Y1,test_size=0.25)"
      ],
      "execution_count": 128,
      "outputs": []
    },
    {
      "cell_type": "code",
      "metadata": {
        "id": "MV_wyL3hOVUa"
      },
      "source": [
        "from sklearn.linear_model import LinearRegression"
      ],
      "execution_count": 129,
      "outputs": []
    },
    {
      "cell_type": "code",
      "metadata": {
        "id": "x39HZfZ9OYve"
      },
      "source": [
        "mod=LinearRegression()"
      ],
      "execution_count": 130,
      "outputs": []
    },
    {
      "cell_type": "code",
      "metadata": {
        "colab": {
          "base_uri": "https://localhost:8080/"
        },
        "id": "BlkIcQW4OdQG",
        "outputId": "63cc2c00-e60b-4efe-ac6a-557ad003feb5"
      },
      "source": [
        "mod.fit(X1_train,Y1_train)"
      ],
      "execution_count": 132,
      "outputs": [
        {
          "output_type": "execute_result",
          "data": {
            "text/plain": [
              "LinearRegression(copy_X=True, fit_intercept=True, n_jobs=None, normalize=False)"
            ]
          },
          "metadata": {
            "tags": []
          },
          "execution_count": 132
        }
      ]
    },
    {
      "cell_type": "code",
      "metadata": {
        "colab": {
          "base_uri": "https://localhost:8080/"
        },
        "id": "StB8UAE6OlRE",
        "outputId": "ca7966ff-af13-40a5-eadd-e303ef01d09e"
      },
      "source": [
        "mod.score(X1,Y1)"
      ],
      "execution_count": 133,
      "outputs": [
        {
          "output_type": "execute_result",
          "data": {
            "text/plain": [
              "0.8878169186885901"
            ]
          },
          "metadata": {
            "tags": []
          },
          "execution_count": 133
        }
      ]
    },
    {
      "cell_type": "code",
      "metadata": {
        "id": "blH10Ur8PiCX"
      },
      "source": [
        "Cool_load_pred=mod.predict(X1_test)"
      ],
      "execution_count": 139,
      "outputs": []
    },
    {
      "cell_type": "code",
      "metadata": {
        "colab": {
          "base_uri": "https://localhost:8080/"
        },
        "id": "kkQo3IHxOpG2",
        "outputId": "52b4e6bb-751e-4abe-92bb-d9fe11172c94"
      },
      "source": [
        "model.coef_"
      ],
      "execution_count": 134,
      "outputs": [
        {
          "output_type": "execute_result",
          "data": {
            "text/plain": [
              "array([-6.56986983e+01,  6.81111446e+10, -6.81111446e+10, -1.36222289e+11,\n",
              "        3.91584849e+00, -4.00738120e-02,  1.92858950e+01,  2.25587217e-01])"
            ]
          },
          "metadata": {
            "tags": []
          },
          "execution_count": 134
        }
      ]
    },
    {
      "cell_type": "code",
      "metadata": {
        "colab": {
          "base_uri": "https://localhost:8080/"
        },
        "id": "risunSJIOsTP",
        "outputId": "6e13b168-876a-42b1-c3a5-9980b0b23331"
      },
      "source": [
        "model.intercept_"
      ],
      "execution_count": 135,
      "outputs": [
        {
          "output_type": "execute_result",
          "data": {
            "text/plain": [
              "88.30156537154565"
            ]
          },
          "metadata": {
            "tags": []
          },
          "execution_count": 135
        }
      ]
    },
    {
      "cell_type": "code",
      "metadata": {
        "colab": {
          "base_uri": "https://localhost:8080/"
        },
        "id": "JP0Su-IiOzyT",
        "outputId": "cb19dbbc-3eac-4582-8112-348fcd205a05"
      },
      "source": [
        "df.columns"
      ],
      "execution_count": 136,
      "outputs": [
        {
          "output_type": "execute_result",
          "data": {
            "text/plain": [
              "Index(['Relative Compactness', 'Surface Area', 'Wall Area', 'Roof Area',\n",
              "       'Overall Height', 'Orientation', 'Glazing Area',\n",
              "       'Glazing Area Distrbution', 'Heating Load', 'Cooling Load'],\n",
              "      dtype='object')"
            ]
          },
          "metadata": {
            "tags": []
          },
          "execution_count": 136
        }
      ]
    },
    {
      "cell_type": "code",
      "metadata": {
        "id": "UI-wjmD4Oti2"
      },
      "source": [
        "Cool_load_eqn = df['Relative Compactness']*mod.coef_[0] + df['Surface Area']*mod.coef_[1] + df['Wall Area']*mod.coef_[2] + df['Roof Area']*mod.coef_[3] + df['Overall Height']*mod.coef_[4] + df['Orientation']*mod.coef_[5] + df['Glazing Area']*mod.coef_[6] + df['Glazing Area Distrbution']*mod.coef_[7] + mod.intercept_"
      ],
      "execution_count": 138,
      "outputs": []
    },
    {
      "cell_type": "code",
      "metadata": {
        "colab": {
          "base_uri": "https://localhost:8080/"
        },
        "id": "jPnCpbALPZzV",
        "outputId": "b0d73b1c-7d3e-4085-da4b-074f033e4bc3"
      },
      "source": [
        "Cool_load_pred[0:5]"
      ],
      "execution_count": 140,
      "outputs": [
        {
          "output_type": "execute_result",
          "data": {
            "text/plain": [
              "array([33.24670815, 31.4748154 , 15.45596171, 17.02674236, 26.43372067])"
            ]
          },
          "metadata": {
            "tags": []
          },
          "execution_count": 140
        }
      ]
    },
    {
      "cell_type": "code",
      "metadata": {
        "colab": {
          "base_uri": "https://localhost:8080/"
        },
        "id": "KvQywPkMPshN",
        "outputId": "35fa91b7-3b20-48d0-c083-2630e476d05b"
      },
      "source": [
        "Cool_load_eqn[0:5]"
      ],
      "execution_count": 141,
      "outputs": [
        {
          "output_type": "execute_result",
          "data": {
            "text/plain": [
              "0    26.059643\n",
              "1    26.184335\n",
              "2    26.309028\n",
              "3    26.433721\n",
              "4    28.356518\n",
              "dtype: float64"
            ]
          },
          "metadata": {
            "tags": []
          },
          "execution_count": 141
        }
      ]
    },
    {
      "cell_type": "markdown",
      "metadata": {
        "id": "o3C0O6I0QIhJ"
      },
      "source": [
        "Compute MSE, MAE, RMSE for two scenarios(5 and 6)"
      ]
    },
    {
      "cell_type": "code",
      "metadata": {
        "id": "_EUspZkMPvEr"
      },
      "source": [
        "from sklearn.metrics import mean_squared_error,mean_absolute_error"
      ],
      "execution_count": 142,
      "outputs": []
    },
    {
      "cell_type": "code",
      "metadata": {
        "colab": {
          "base_uri": "https://localhost:8080/"
        },
        "id": "mFa0bDHhQaZ5",
        "outputId": "ce756d1f-d65e-4d5d-a043-1a71b341b70e"
      },
      "source": [
        "mse_heat=mean_squared_error(df['Heating Load'][0:192],Heat_load_pred)\n",
        "mae_heat=mean_absolute_error(df['Heating Load'][0:192],Heat_load_pred)\n",
        "rmse_heat=(mse_heat)**0.5\n",
        "\n",
        "print(mse_heat)\n",
        "print(mae_heat)\n",
        "print(rmse_heat)"
      ],
      "execution_count": 149,
      "outputs": [
        {
          "output_type": "stream",
          "text": [
            "182.2828092992842\n",
            "10.830880160929903\n",
            "13.501215104548338\n"
          ],
          "name": "stdout"
        }
      ]
    },
    {
      "cell_type": "code",
      "metadata": {
        "colab": {
          "base_uri": "https://localhost:8080/"
        },
        "id": "80ZRxpuZQn3P",
        "outputId": "d3b65c5f-bda2-4eae-f960-10639b2144bb"
      },
      "source": [
        "mse_cool=mean_squared_error(df['Cooling Load'][0:192],Cool_load_pred)\n",
        "mae_cool=mean_absolute_error(df['Cooling Load'][0:192],Cool_load_pred)\n",
        "rmse_cool=(mse_cool)**0.5\n",
        "\n",
        "print(mse_cool)\n",
        "print(mae_cool)\n",
        "print(rmse_cool)"
      ],
      "execution_count": 152,
      "outputs": [
        {
          "output_type": "stream",
          "text": [
            "170.9470445472981\n",
            "10.627961340727904\n",
            "13.07467187149636\n"
          ],
          "name": "stdout"
        }
      ]
    },
    {
      "cell_type": "markdown",
      "metadata": {
        "id": "eot7IaH0Rtar"
      },
      "source": [
        "Select appropriate independent features based on Correlation matrix"
      ]
    },
    {
      "cell_type": "code",
      "metadata": {
        "id": "f2v2UaozRjlZ"
      },
      "source": [
        "import seaborn as sns"
      ],
      "execution_count": 153,
      "outputs": []
    },
    {
      "cell_type": "code",
      "metadata": {
        "colab": {
          "base_uri": "https://localhost:8080/",
          "height": 415
        },
        "id": "yK95xZ58SE3d",
        "outputId": "abf87e91-b3a3-41f5-91ec-1c065acbe087"
      },
      "source": [
        "df.corr()"
      ],
      "execution_count": 157,
      "outputs": [
        {
          "output_type": "execute_result",
          "data": {
            "text/html": [
              "<div>\n",
              "<style scoped>\n",
              "    .dataframe tbody tr th:only-of-type {\n",
              "        vertical-align: middle;\n",
              "    }\n",
              "\n",
              "    .dataframe tbody tr th {\n",
              "        vertical-align: top;\n",
              "    }\n",
              "\n",
              "    .dataframe thead th {\n",
              "        text-align: right;\n",
              "    }\n",
              "</style>\n",
              "<table border=\"1\" class=\"dataframe\">\n",
              "  <thead>\n",
              "    <tr style=\"text-align: right;\">\n",
              "      <th></th>\n",
              "      <th>Relative Compactness</th>\n",
              "      <th>Surface Area</th>\n",
              "      <th>Wall Area</th>\n",
              "      <th>Roof Area</th>\n",
              "      <th>Overall Height</th>\n",
              "      <th>Orientation</th>\n",
              "      <th>Glazing Area</th>\n",
              "      <th>Glazing Area Distrbution</th>\n",
              "      <th>Heating Load</th>\n",
              "      <th>Cooling Load</th>\n",
              "    </tr>\n",
              "  </thead>\n",
              "  <tbody>\n",
              "    <tr>\n",
              "      <th>Relative Compactness</th>\n",
              "      <td>1.000000e+00</td>\n",
              "      <td>-9.919015e-01</td>\n",
              "      <td>-2.037817e-01</td>\n",
              "      <td>-8.688234e-01</td>\n",
              "      <td>8.277473e-01</td>\n",
              "      <td>0.000000</td>\n",
              "      <td>1.283986e-17</td>\n",
              "      <td>1.764620e-17</td>\n",
              "      <td>0.622272</td>\n",
              "      <td>0.634339</td>\n",
              "    </tr>\n",
              "    <tr>\n",
              "      <th>Surface Area</th>\n",
              "      <td>-9.919015e-01</td>\n",
              "      <td>1.000000e+00</td>\n",
              "      <td>1.955016e-01</td>\n",
              "      <td>8.807195e-01</td>\n",
              "      <td>-8.581477e-01</td>\n",
              "      <td>0.000000</td>\n",
              "      <td>1.318356e-16</td>\n",
              "      <td>-3.558613e-16</td>\n",
              "      <td>-0.658120</td>\n",
              "      <td>-0.672999</td>\n",
              "    </tr>\n",
              "    <tr>\n",
              "      <th>Wall Area</th>\n",
              "      <td>-2.037817e-01</td>\n",
              "      <td>1.955016e-01</td>\n",
              "      <td>1.000000e+00</td>\n",
              "      <td>-2.923165e-01</td>\n",
              "      <td>2.809757e-01</td>\n",
              "      <td>0.000000</td>\n",
              "      <td>-7.969726e-19</td>\n",
              "      <td>0.000000e+00</td>\n",
              "      <td>0.455671</td>\n",
              "      <td>0.427117</td>\n",
              "    </tr>\n",
              "    <tr>\n",
              "      <th>Roof Area</th>\n",
              "      <td>-8.688234e-01</td>\n",
              "      <td>8.807195e-01</td>\n",
              "      <td>-2.923165e-01</td>\n",
              "      <td>1.000000e+00</td>\n",
              "      <td>-9.725122e-01</td>\n",
              "      <td>0.000000</td>\n",
              "      <td>-1.381805e-16</td>\n",
              "      <td>-1.079129e-16</td>\n",
              "      <td>-0.861828</td>\n",
              "      <td>-0.862547</td>\n",
              "    </tr>\n",
              "    <tr>\n",
              "      <th>Overall Height</th>\n",
              "      <td>8.277473e-01</td>\n",
              "      <td>-8.581477e-01</td>\n",
              "      <td>2.809757e-01</td>\n",
              "      <td>-9.725122e-01</td>\n",
              "      <td>1.000000e+00</td>\n",
              "      <td>0.000000</td>\n",
              "      <td>1.861418e-18</td>\n",
              "      <td>0.000000e+00</td>\n",
              "      <td>0.889430</td>\n",
              "      <td>0.895785</td>\n",
              "    </tr>\n",
              "    <tr>\n",
              "      <th>Orientation</th>\n",
              "      <td>0.000000e+00</td>\n",
              "      <td>0.000000e+00</td>\n",
              "      <td>0.000000e+00</td>\n",
              "      <td>0.000000e+00</td>\n",
              "      <td>0.000000e+00</td>\n",
              "      <td>1.000000</td>\n",
              "      <td>0.000000e+00</td>\n",
              "      <td>0.000000e+00</td>\n",
              "      <td>-0.002587</td>\n",
              "      <td>0.014290</td>\n",
              "    </tr>\n",
              "    <tr>\n",
              "      <th>Glazing Area</th>\n",
              "      <td>1.283986e-17</td>\n",
              "      <td>1.318356e-16</td>\n",
              "      <td>-7.969726e-19</td>\n",
              "      <td>-1.381805e-16</td>\n",
              "      <td>1.861418e-18</td>\n",
              "      <td>0.000000</td>\n",
              "      <td>1.000000e+00</td>\n",
              "      <td>2.129642e-01</td>\n",
              "      <td>0.269842</td>\n",
              "      <td>0.207505</td>\n",
              "    </tr>\n",
              "    <tr>\n",
              "      <th>Glazing Area Distrbution</th>\n",
              "      <td>1.764620e-17</td>\n",
              "      <td>-3.558613e-16</td>\n",
              "      <td>0.000000e+00</td>\n",
              "      <td>-1.079129e-16</td>\n",
              "      <td>0.000000e+00</td>\n",
              "      <td>0.000000</td>\n",
              "      <td>2.129642e-01</td>\n",
              "      <td>1.000000e+00</td>\n",
              "      <td>0.087368</td>\n",
              "      <td>0.050525</td>\n",
              "    </tr>\n",
              "    <tr>\n",
              "      <th>Heating Load</th>\n",
              "      <td>6.222719e-01</td>\n",
              "      <td>-6.581199e-01</td>\n",
              "      <td>4.556714e-01</td>\n",
              "      <td>-8.618281e-01</td>\n",
              "      <td>8.894305e-01</td>\n",
              "      <td>-0.002587</td>\n",
              "      <td>2.698417e-01</td>\n",
              "      <td>8.736846e-02</td>\n",
              "      <td>1.000000</td>\n",
              "      <td>0.975862</td>\n",
              "    </tr>\n",
              "    <tr>\n",
              "      <th>Cooling Load</th>\n",
              "      <td>6.343391e-01</td>\n",
              "      <td>-6.729989e-01</td>\n",
              "      <td>4.271170e-01</td>\n",
              "      <td>-8.625466e-01</td>\n",
              "      <td>8.957852e-01</td>\n",
              "      <td>0.014290</td>\n",
              "      <td>2.075050e-01</td>\n",
              "      <td>5.052512e-02</td>\n",
              "      <td>0.975862</td>\n",
              "      <td>1.000000</td>\n",
              "    </tr>\n",
              "  </tbody>\n",
              "</table>\n",
              "</div>"
            ],
            "text/plain": [
              "                          Relative Compactness  ...  Cooling Load\n",
              "Relative Compactness              1.000000e+00  ...      0.634339\n",
              "Surface Area                     -9.919015e-01  ...     -0.672999\n",
              "Wall Area                        -2.037817e-01  ...      0.427117\n",
              "Roof Area                        -8.688234e-01  ...     -0.862547\n",
              "Overall Height                    8.277473e-01  ...      0.895785\n",
              "Orientation                       0.000000e+00  ...      0.014290\n",
              "Glazing Area                      1.283986e-17  ...      0.207505\n",
              "Glazing Area Distrbution          1.764620e-17  ...      0.050525\n",
              "Heating Load                      6.222719e-01  ...      0.975862\n",
              "Cooling Load                      6.343391e-01  ...      1.000000\n",
              "\n",
              "[10 rows x 10 columns]"
            ]
          },
          "metadata": {
            "tags": []
          },
          "execution_count": 157
        }
      ]
    },
    {
      "cell_type": "markdown",
      "metadata": {
        "id": "tHKwFglrS1Ky"
      },
      "source": [
        "Repeat Q5 and Q7 for heating load after the original dataset has been split into training and testing dataset with test_size=25% with appropriate independent features selected from correlation matrix"
      ]
    },
    {
      "cell_type": "code",
      "metadata": {
        "id": "Whaw7uiQS9CY"
      },
      "source": [
        "XF=df[['Relative Compactness','Wall Area','Overall Height','Glazing Area','Glazing Area Distrbution']]\n",
        "YF=df['Heating Load']"
      ],
      "execution_count": 160,
      "outputs": []
    },
    {
      "cell_type": "code",
      "metadata": {
        "id": "BskNFu9OTgyB"
      },
      "source": [
        "XF_train,XF_test,YF_train,YF_test=train_test_split(XF,YF,test_size=0.25)"
      ],
      "execution_count": 161,
      "outputs": []
    },
    {
      "cell_type": "code",
      "metadata": {
        "id": "COlujaohTxa5"
      },
      "source": [
        "FMOD=LinearRegression()"
      ],
      "execution_count": 162,
      "outputs": []
    },
    {
      "cell_type": "code",
      "metadata": {
        "colab": {
          "base_uri": "https://localhost:8080/"
        },
        "id": "R_n8qPDKT2zb",
        "outputId": "96b3efa8-b1d8-4b9e-edcd-7438a15961b1"
      },
      "source": [
        "FMOD.fit(XF_train,YF_train)"
      ],
      "execution_count": 163,
      "outputs": [
        {
          "output_type": "execute_result",
          "data": {
            "text/plain": [
              "LinearRegression(copy_X=True, fit_intercept=True, n_jobs=None, normalize=False)"
            ]
          },
          "metadata": {
            "tags": []
          },
          "execution_count": 163
        }
      ]
    },
    {
      "cell_type": "code",
      "metadata": {
        "colab": {
          "base_uri": "https://localhost:8080/"
        },
        "id": "H2LKpk3IT7z9",
        "outputId": "406e2852-b995-4f0b-adfb-460a0d90b711"
      },
      "source": [
        "FMOD.score(XF,YF)"
      ],
      "execution_count": 164,
      "outputs": [
        {
          "output_type": "execute_result",
          "data": {
            "text/plain": [
              "0.9132525608368104"
            ]
          },
          "metadata": {
            "tags": []
          },
          "execution_count": 164
        }
      ]
    },
    {
      "cell_type": "code",
      "metadata": {
        "id": "R445CnplUBFH"
      },
      "source": [
        "Final_heat_pred=FMOD.predict(XF_test)"
      ],
      "execution_count": 168,
      "outputs": []
    },
    {
      "cell_type": "code",
      "metadata": {
        "colab": {
          "base_uri": "https://localhost:8080/"
        },
        "id": "T88qsOcCUUeT",
        "outputId": "3a54f291-3708-494d-ecc0-c336cbf967b5"
      },
      "source": [
        "FMOD.coef_"
      ],
      "execution_count": 170,
      "outputs": [
        {
          "output_type": "execute_result",
          "data": {
            "text/plain": [
              "array([-14.56730434,   0.03493175,   5.62684081,  20.48565739,\n",
              "         0.18887735])"
            ]
          },
          "metadata": {
            "tags": []
          },
          "execution_count": 170
        }
      ]
    },
    {
      "cell_type": "code",
      "metadata": {
        "colab": {
          "base_uri": "https://localhost:8080/"
        },
        "id": "1IiRqz4YUhtK",
        "outputId": "6dabf9df-f076-49dc-b815-7744a4b68276"
      },
      "source": [
        "FMOD.intercept_"
      ],
      "execution_count": 171,
      "outputs": [
        {
          "output_type": "execute_result",
          "data": {
            "text/plain": [
              "-12.554291881523682"
            ]
          },
          "metadata": {
            "tags": []
          },
          "execution_count": 171
        }
      ]
    },
    {
      "cell_type": "code",
      "metadata": {
        "colab": {
          "base_uri": "https://localhost:8080/"
        },
        "id": "evBMUJgxUv-n",
        "outputId": "6fb39ebd-9a50-4bcd-b637-849b912f870c"
      },
      "source": [
        "XF.columns"
      ],
      "execution_count": 173,
      "outputs": [
        {
          "output_type": "execute_result",
          "data": {
            "text/plain": [
              "Index(['Relative Compactness', 'Wall Area', 'Overall Height', 'Glazing Area',\n",
              "       'Glazing Area Distrbution'],\n",
              "      dtype='object')"
            ]
          },
          "metadata": {
            "tags": []
          },
          "execution_count": 173
        }
      ]
    },
    {
      "cell_type": "code",
      "metadata": {
        "id": "xxNIYz6BUmke"
      },
      "source": [
        "Final_heat_eqn= df['Relative Compactness']*FMOD.coef_[0] + df['Wall Area']*FMOD.coef_[1] + df['Overall Height']*FMOD.coef_[2] + df['Glazing Area']*FMOD.coef_[3] + df['Glazing Area Distrbution']*FMOD.coef_[4] + FMOD.intercept_"
      ],
      "execution_count": 175,
      "outputs": []
    },
    {
      "cell_type": "code",
      "metadata": {
        "colab": {
          "base_uri": "https://localhost:8080/"
        },
        "id": "F4z_tObjVJGM",
        "outputId": "c2c43198-7aee-43b8-fb19-b94ec7e38307"
      },
      "source": [
        "Final_heat_pred[0:5]"
      ],
      "execution_count": 176,
      "outputs": [
        {
          "output_type": "execute_result",
          "data": {
            "text/plain": [
              "array([15.86396829, 24.57564725, 13.96128489, 10.60617144, 18.9368169 ])"
            ]
          },
          "metadata": {
            "tags": []
          },
          "execution_count": 176
        }
      ]
    },
    {
      "cell_type": "code",
      "metadata": {
        "colab": {
          "base_uri": "https://localhost:8080/"
        },
        "id": "OMcMtTV2VP5N",
        "outputId": "1d69f2b6-a0e5-427c-f414-491f54722b63"
      },
      "source": [
        "Final_heat_eqn[0:5]"
      ],
      "execution_count": 177,
      "outputs": [
        {
          "output_type": "execute_result",
          "data": {
            "text/plain": [
              "0    22.827571\n",
              "1    22.827571\n",
              "2    22.827571\n",
              "3    22.827571\n",
              "4    24.848783\n",
              "dtype: float64"
            ]
          },
          "metadata": {
            "tags": []
          },
          "execution_count": 177
        }
      ]
    },
    {
      "cell_type": "code",
      "metadata": {
        "colab": {
          "base_uri": "https://localhost:8080/"
        },
        "id": "aaM-1kbAVTpF",
        "outputId": "c0ff52c6-fa7a-47be-f6a7-a278aee03f9d"
      },
      "source": [
        "Final_mse_heat=mean_squared_error(df['Heating Load'][0:192],Final_heat_pred)\n",
        "Final_mae_heat=mean_absolute_error(df['Heating Load'][0:192],Final_heat_pred)\n",
        "Final_rmse_heat=(Final_mse_heat)**0.5\n",
        "\n",
        "print(Final_mse_heat)\n",
        "print(Final_mae_heat)\n",
        "print(Final_rmse_heat)"
      ],
      "execution_count": 181,
      "outputs": [
        {
          "output_type": "stream",
          "text": [
            "191.7228988200071\n",
            "11.082888871611635\n",
            "13.846403822653992\n"
          ],
          "name": "stdout"
        }
      ]
    },
    {
      "cell_type": "markdown",
      "metadata": {
        "id": "CW6TI5UGWDWR"
      },
      "source": [
        "Repeat Q6 and Q7 for cooling load after the original dataset has been split into training and testing dataset with test_szie=25% with appropriate independent features selected from correlation matrix"
      ]
    },
    {
      "cell_type": "code",
      "metadata": {
        "id": "4LemGJbbVwrd"
      },
      "source": [
        "x5=df[['Relative Compactness','Wall Area','Overall Height','Glazing Area','Glazing Area Distrbution']]\n",
        "y5=df['Cooling Load']"
      ],
      "execution_count": 183,
      "outputs": []
    },
    {
      "cell_type": "code",
      "metadata": {
        "id": "MlwzxaIqWf9_"
      },
      "source": [
        "x5_train,x5_test,y5_train,y5_test=train_test_split(x5,y5,test_size=.25)"
      ],
      "execution_count": 184,
      "outputs": []
    },
    {
      "cell_type": "code",
      "metadata": {
        "id": "9n7zpSlmWsEe"
      },
      "source": [
        "clr=LinearRegression()"
      ],
      "execution_count": 185,
      "outputs": []
    },
    {
      "cell_type": "code",
      "metadata": {
        "colab": {
          "base_uri": "https://localhost:8080/"
        },
        "id": "ZrJISfnFW2Fl",
        "outputId": "975082e3-aeac-4815-e258-be79de929602"
      },
      "source": [
        "clr.fit(x5_train,y5_train)"
      ],
      "execution_count": 186,
      "outputs": [
        {
          "output_type": "execute_result",
          "data": {
            "text/plain": [
              "LinearRegression(copy_X=True, fit_intercept=True, n_jobs=None, normalize=False)"
            ]
          },
          "metadata": {
            "tags": []
          },
          "execution_count": 186
        }
      ]
    },
    {
      "cell_type": "code",
      "metadata": {
        "colab": {
          "base_uri": "https://localhost:8080/"
        },
        "id": "09-rOahvW59L",
        "outputId": "f705c702-e8ef-48cc-ede5-95c0076af256"
      },
      "source": [
        "clr.score(x5,y5)"
      ],
      "execution_count": 187,
      "outputs": [
        {
          "output_type": "execute_result",
          "data": {
            "text/plain": [
              "0.8841055680372997"
            ]
          },
          "metadata": {
            "tags": []
          },
          "execution_count": 187
        }
      ]
    },
    {
      "cell_type": "code",
      "metadata": {
        "id": "Q628Fm_IW9lR"
      },
      "source": [
        "Final_cool_pred=clr.predict(x5_test)"
      ],
      "execution_count": 188,
      "outputs": []
    },
    {
      "cell_type": "code",
      "metadata": {
        "colab": {
          "base_uri": "https://localhost:8080/"
        },
        "id": "wOfsjcl9XUj_",
        "outputId": "ed412f7d-4561-49f0-d412-d052609cc45e"
      },
      "source": [
        "clr.coef_"
      ],
      "execution_count": 190,
      "outputs": [
        {
          "output_type": "execute_result",
          "data": {
            "text/plain": [
              "array([-2.05748414e+01,  1.56679362e-02,  5.81908551e+00,  1.43628611e+01,\n",
              "        6.10660551e-02])"
            ]
          },
          "metadata": {
            "tags": []
          },
          "execution_count": 190
        }
      ]
    },
    {
      "cell_type": "code",
      "metadata": {
        "colab": {
          "base_uri": "https://localhost:8080/"
        },
        "id": "JKubqYNIXXQG",
        "outputId": "62defb01-7b04-4a26-caf6-a2c80db60714"
      },
      "source": [
        "clr.intercept_"
      ],
      "execution_count": 191,
      "outputs": [
        {
          "output_type": "execute_result",
          "data": {
            "text/plain": [
              "1.2668096195644019"
            ]
          },
          "metadata": {
            "tags": []
          },
          "execution_count": 191
        }
      ]
    },
    {
      "cell_type": "code",
      "metadata": {
        "colab": {
          "base_uri": "https://localhost:8080/"
        },
        "id": "lMWqhQeLXPJK",
        "outputId": "0502eb26-1f05-4508-fcea-9fd192808217"
      },
      "source": [
        "x5.columns"
      ],
      "execution_count": 189,
      "outputs": [
        {
          "output_type": "execute_result",
          "data": {
            "text/plain": [
              "Index(['Relative Compactness', 'Wall Area', 'Overall Height', 'Glazing Area',\n",
              "       'Glazing Area Distrbution'],\n",
              "      dtype='object')"
            ]
          },
          "metadata": {
            "tags": []
          },
          "execution_count": 189
        }
      ]
    },
    {
      "cell_type": "code",
      "metadata": {
        "id": "KZfSJsfSXRjW"
      },
      "source": [
        "Final_cool_eqn= df['Relative Compactness']*clr.coef_[0] + df['Wall Area']*clr.coef_[1] + df['Overall Height']*clr.coef_[2] + df['Glazing Area']*clr.coef_[3] + df['Glazing Area Distrbution']*clr.coef_[4] + clr.intercept_"
      ],
      "execution_count": 193,
      "outputs": []
    },
    {
      "cell_type": "code",
      "metadata": {
        "colab": {
          "base_uri": "https://localhost:8080/"
        },
        "id": "r5p8wqigXqtj",
        "outputId": "31cd5a64-975a-4082-e14e-5d5fcc54b3f6"
      },
      "source": [
        "Final_cool_pred[0:5]"
      ],
      "execution_count": 194,
      "outputs": [
        {
          "output_type": "execute_result",
          "data": {
            "text/plain": [
              "array([20.4413843 , 36.5410055 , 16.17521325, 32.31071342, 36.72420366])"
            ]
          },
          "metadata": {
            "tags": []
          },
          "execution_count": 194
        }
      ]
    },
    {
      "cell_type": "code",
      "metadata": {
        "colab": {
          "base_uri": "https://localhost:8080/"
        },
        "id": "Rj727n5DX6Hg",
        "outputId": "0590a420-82bf-4683-87c6-126a5ea36b9e"
      },
      "source": [
        "Final_cool_eqn[0:5]"
      ],
      "execution_count": 197,
      "outputs": [
        {
          "output_type": "execute_result",
          "data": {
            "text/plain": [
              "0    26.443437\n",
              "1    26.443437\n",
              "2    26.443437\n",
              "3    26.443437\n",
              "4    28.473289\n",
              "dtype: float64"
            ]
          },
          "metadata": {
            "tags": []
          },
          "execution_count": 197
        }
      ]
    },
    {
      "cell_type": "code",
      "metadata": {
        "colab": {
          "base_uri": "https://localhost:8080/"
        },
        "id": "zS7Pr6FfX8Fa",
        "outputId": "ce78bd46-4195-4b92-f6ab-1d5e75a1977f"
      },
      "source": [
        "Final_mse_cool=mean_squared_error(df['Cooling Load'][0:192],Final_cool_pred)\n",
        "Final_mae_cool=mean_absolute_error(df['Cooling Load'][0:192],Final_cool_pred)\n",
        "Final_rmse_cool=(Final_mse_cool)**0.5\n",
        "\n",
        "print(Final_mse_cool)\n",
        "print(Final_mae_cool)\n",
        "print(Final_rmse_cool)"
      ],
      "execution_count": 198,
      "outputs": [
        {
          "output_type": "stream",
          "text": [
            "156.80868105056044\n",
            "10.099406920810173\n",
            "12.522327301686394\n"
          ],
          "name": "stdout"
        }
      ]
    },
    {
      "cell_type": "code",
      "metadata": {
        "id": "BlSCarSMYeIs"
      },
      "source": [
        ""
      ],
      "execution_count": null,
      "outputs": []
    }
  ]
}